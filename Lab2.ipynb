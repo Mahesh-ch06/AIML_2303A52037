{
  "nbformat": 4,
  "nbformat_minor": 0,
  "metadata": {
    "colab": {
      "provenance": [],
      "authorship_tag": "ABX9TyPklxm+tU4CoABgPpBzYNXJ",
      "include_colab_link": true
    },
    "kernelspec": {
      "name": "python3",
      "display_name": "Python 3"
    },
    "language_info": {
      "name": "python"
    }
  },
  "cells": [
    {
      "cell_type": "markdown",
      "metadata": {
        "id": "view-in-github",
        "colab_type": "text"
      },
      "source": [
        "<a href=\"https://colab.research.google.com/github/Mahesh-ch06/AIML_2303A52037/blob/main/Lab2.ipynb\" target=\"_parent\"><img src=\"https://colab.research.google.com/assets/colab-badge.svg\" alt=\"Open In Colab\"/></a>"
      ]
    },
    {
      "cell_type": "markdown",
      "source": [
        "**Implement Breadth First Search Algorithm**"
      ],
      "metadata": {
        "id": "Pgb7Ru9GWqv0"
      }
    },
    {
      "cell_type": "code",
      "source": [
        "graph = {\n",
        "    0: [1, 3],\n",
        "    1: [0, 2, 3],\n",
        "    2: [4, 1, 5],\n",
        "    3: [4, 0, 1],\n",
        "    4: [2, 3, 5],\n",
        "    5: [4, 2],\n",
        "    6: []\n",
        "}\n",
        "print(\"The adjacency List representing the graph is:\")\n",
        "print(graph)\n",
        "\n",
        "def bfs(graph, source):\n",
        "    queue = []\n",
        "    visited = set()\n",
        "\n",
        "    queue.append(source)\n",
        "    visited.add(source)\n",
        "\n",
        "    while queue:\n",
        "        vertex = queue.pop(0)\n",
        "        print(vertex, end=\"-->\")\n",
        "\n",
        "        for n in graph[vertex]:\n",
        "            if n not in visited:\n",
        "                queue.append(n)\n",
        "                visited.add(n)\n",
        "\n",
        "print(\"\")\n",
        "print(\"BFS traversal of graph with source 0 is:\")\n",
        "bfs(graph, 0)\n"
      ],
      "metadata": {
        "colab": {
          "base_uri": "https://localhost:8080/"
        },
        "id": "EY4zQ5awYnPa",
        "outputId": "21eb7912-aa86-49c1-ffb0-68f3d2d1290f"
      },
      "execution_count": 14,
      "outputs": [
        {
          "output_type": "stream",
          "name": "stdout",
          "text": [
            "The adjacency List representing the graph is:\n",
            "{0: [1, 3], 1: [0, 2, 3], 2: [4, 1, 5], 3: [4, 0, 1], 4: [2, 3, 5], 5: [4, 2], 6: []}\n",
            "\n",
            "BFS traversal of graph with source 0 is:\n",
            "0-->1-->3-->2-->4-->5-->"
          ]
        }
      ]
    },
    {
      "cell_type": "code",
      "source": [
        "print(\"BFS traversal of graph with source 1 is:\")\n",
        "bfs(graph, 1)\n",
        "print(\"\")\n",
        "print(\"\")\n",
        "print(\"BFS traversal of graph with source 2 is:\")\n",
        "bfs(graph, 2)\n",
        "print(\"\")\n",
        "print(\"\")\n",
        "print(\"BFS traversal of graph with source 3 is:\")\n",
        "bfs(graph, 3)\n",
        "print(\"\")\n",
        "print(\"\")\n",
        "print(\"BFS traversal of graph with source 4 is:\")\n",
        "bfs(graph, 4)\n",
        "print(\"\")\n",
        "print(\"\")\n",
        "print(\"BFS traversal of graph with source 5 is:\")\n",
        "bfs(graph, 5)\n",
        "print(\"\")\n",
        "print(\"\")\n",
        "print(\"BFS traversal of graph with source 6 is:\")\n",
        "bfs(graph, 6)"
      ],
      "metadata": {
        "colab": {
          "base_uri": "https://localhost:8080/"
        },
        "id": "_7iy4UqFY8pq",
        "outputId": "39e99d11-072b-4bea-ef87-88b32fac608a"
      },
      "execution_count": null,
      "outputs": [
        {
          "output_type": "stream",
          "name": "stdout",
          "text": [
            "BFS traversal of graph with source 1 is:\n",
            "1-->0-->2-->3-->4-->5-->\n",
            "\n",
            "BFS traversal of graph with source 2 is:\n",
            "2-->4-->1-->5-->3-->0-->\n",
            "\n",
            "BFS traversal of graph with source 3 is:\n",
            "3-->4-->0-->1-->2-->5-->\n",
            "\n",
            "BFS traversal of graph with source 4 is:\n",
            "4-->2-->3-->5-->1-->0-->\n",
            "\n",
            "BFS traversal of graph with source 5 is:\n",
            "5-->4-->2-->3-->1-->0-->\n",
            "\n",
            "BFS traversal of graph with source 6 is:\n",
            "6-->"
          ]
        }
      ]
    },
    {
      "cell_type": "markdown",
      "source": [
        "**Implement Depth First Search Algorithm**"
      ],
      "metadata": {
        "id": "3-VPTE78aW8j"
      }
    },
    {
      "cell_type": "code",
      "source": [
        "graph = {\n",
        "    'A': ['B', 'S'],\n",
        "    'B': ['A'],\n",
        "    'C': ['D', 'E', 'F', 'S'],\n",
        "    'D': ['C'],\n",
        "    'E': ['C', 'H'],\n",
        "    'F': ['C', 'G'],\n",
        "    'G': ['F', 'S'],\n",
        "    'H': ['E', 'G'],\n",
        "    'S': ['A', 'C', 'G']\n",
        "}\n",
        "\n",
        "def dfs(graph, start_node):\n",
        "    stack = [start_node]\n",
        "    visited = set()\n",
        "\n",
        "    while stack:\n",
        "        node = stack.pop()\n",
        "        if node not in visited:\n",
        "            visited.add(node)\n",
        "            stack.extend(n for n in graph[node] if n not in visited)\n",
        "\n",
        "    return list(visited)\n",
        "print(\"DFS traversal of graph with source node A is:\")\n",
        "visited_nodes = dfs(graph, 'A')\n",
        "print(visited_nodes)\n"
      ],
      "metadata": {
        "colab": {
          "base_uri": "https://localhost:8080/"
        },
        "id": "75IHPWcAaXms",
        "outputId": "3c1cac98-46ff-4571-f118-9dc4b109f6b6"
      },
      "execution_count": 20,
      "outputs": [
        {
          "output_type": "stream",
          "name": "stdout",
          "text": [
            "DFS traversal of graph with source node A is:\n",
            "['H', 'C', 'D', 'B', 'S', 'F', 'G', 'A', 'E']\n"
          ]
        }
      ]
    },
    {
      "cell_type": "code",
      "source": [
        "print(\"DFS traversal of graph with source node B is:\")\n",
        "visited_nodes = dfs(graph, 'B')\n",
        "print(visited_nodes)\n",
        "print(\"\")\n",
        "print(\"\")\n",
        "print(\"DFS traversal of graph with source node C is:\")\n",
        "visited_nodes = dfs(graph, 'C')\n",
        "print(visited_nodes)\n",
        "print(\"\")\n",
        "print(\"\")\n",
        "print(\"DFS traversal of graph with source node D is:\")\n",
        "visited_nodes = dfs(graph, 'D')\n",
        "print(visited_nodes)\n",
        "print(\"\")\n",
        "print(\"\")\n",
        "print(\"DFS traversal of graph with source node E is:\")\n",
        "visited_nodes = dfs(graph, 'E')\n",
        "print(visited_nodes)\n",
        "print(\"\")\n",
        "print(\"\")\n",
        "print(\"DFS traversal of graph with source node F is:\")\n",
        "visited_nodes = dfs(graph, 'F')\n",
        "print(visited_nodes)\n",
        "print(\"\")\n",
        "print(\"\")\n",
        "print(\"DFS traversal of graph with source node G is:\")\n",
        "visited_nodes = dfs(graph, 'G')\n",
        "print(visited_nodes)\n",
        "print(\"\")\n",
        "print(\"\")\n",
        "print(\"DFS traversal of graph with source node H is:\")\n",
        "visited_nodes = dfs(graph, 'H')\n",
        "print(visited_nodes)\n",
        "print(\"\")\n",
        "print(\"\")\n",
        "print(\"DFS traversal of graph with source node S is:\")\n",
        "visited_nodes = dfs(graph, 'S')\n",
        "print(visited_nodes)\n"
      ],
      "metadata": {
        "colab": {
          "base_uri": "https://localhost:8080/"
        },
        "id": "XcwoOQgKrIrl",
        "outputId": "01655dfa-43bb-4b69-bf97-cf701fff3918"
      },
      "execution_count": 22,
      "outputs": [
        {
          "output_type": "stream",
          "name": "stdout",
          "text": [
            "DFS traversal of graph with source node B is:\n",
            "['H', 'C', 'D', 'B', 'S', 'F', 'G', 'A', 'E']\n",
            "\n",
            "\n",
            "DFS traversal of graph with source node C is:\n",
            "['H', 'C', 'D', 'B', 'S', 'F', 'G', 'A', 'E']\n",
            "\n",
            "\n",
            "DFS traversal of graph with source node D is:\n",
            "['H', 'C', 'D', 'B', 'S', 'F', 'G', 'A', 'E']\n",
            "\n",
            "\n",
            "DFS traversal of graph with source node E is:\n",
            "['H', 'C', 'D', 'B', 'S', 'F', 'G', 'A', 'E']\n",
            "\n",
            "\n",
            "DFS traversal of graph with source node F is:\n",
            "['H', 'C', 'D', 'B', 'S', 'F', 'G', 'A', 'E']\n",
            "\n",
            "\n",
            "DFS traversal of graph with source node G is:\n",
            "['H', 'C', 'D', 'B', 'S', 'F', 'G', 'A', 'E']\n",
            "\n",
            "\n",
            "DFS traversal of graph with source node H is:\n",
            "['H', 'C', 'D', 'B', 'S', 'F', 'G', 'A', 'E']\n",
            "\n",
            "\n",
            "DFS traversal of graph with source node S is:\n",
            "['H', 'C', 'D', 'B', 'S', 'F', 'G', 'A', 'E']\n"
          ]
        }
      ]
    }
  ]
}